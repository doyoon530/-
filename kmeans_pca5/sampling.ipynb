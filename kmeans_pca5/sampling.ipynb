{
 "cells": [
  {
   "cell_type": "code",
   "execution_count": 1,
   "metadata": {},
   "outputs": [
    {
     "name": "stdout",
     "output_type": "stream",
     "text": [
      "['total_7_section.xlsx']\n",
      "total_7_section.xlsx\n"
     ]
    }
   ],
   "source": [
    "import pandas as pd\n",
    "import os\n",
    "\n",
    "# 현재 스크립트의 경로 가져오기\n",
    "current_folder = os.getcwd()\n",
    "\n",
    "folder_path = os.path.join(current_folder, 'train')\n",
    "file_names = [file_name for file_name in os.listdir(folder_path) if file_name.endswith('.xlsx') and (not file_name.startswith(\"~$\"))]\n",
    "print(file_names)\n",
    "\n",
    "data_points = []  # 섹션 구분 없이 모든 데이터를 저장할 리스트\n",
    "\n",
    "def process_files_in_folder():\n",
    "    global data_points\n",
    "\n",
    "    section_files = [file_name for file_name in file_names if not file_name.startswith(\"~$\")]\n",
    "    for file_name in section_files:\n",
    "        print(file_name)\n",
    "        file_path = os.path.join(folder_path, file_name)\n",
    "        try:\n",
    "            df = pd.read_excel(file_path, header=0, engine='openpyxl')\n",
    "\n",
    "            value_xx = df[\"xx\"].tolist() if \"xx\" in df.columns else df[0].tolist()\n",
    "            value_xy = df[\"xy\"].tolist() if \"xy\" in df.columns else df[1].tolist()\n",
    "            value_xz = df[\"xz\"].tolist() if \"xz\" in df.columns else df[2].tolist()\n",
    "            value_yx = df[\"yx\"].tolist() if \"yx\" in df.columns else df[3].tolist()\n",
    "            value_yy = df[\"yy\"].tolist() if \"yy\" in df.columns else df[4].tolist()\n",
    "            value_yz = df[\"yz\"].tolist() if \"yz\" in df.columns else df[5].tolist()\n",
    "            value_zx = df[\"zx\"].tolist() if \"zx\" in df.columns else df[6].tolist()\n",
    "            value_zy = df[\"zy\"].tolist() if \"zy\" in df.columns else df[7].tolist()\n",
    "            value_zz = df[\"zz\"].tolist() if \"zz\" in df.columns else df[8].tolist()\n",
    "            label_num = df[\"label\"].tolist() if \"label\" in df.columns else df[9].tolist()\n",
    "\n",
    "            for xx, xy, xz, yx, yy, yz, zx, zy, zz, num in zip(value_xx, value_xy, value_xz,\n",
    "                                                           value_yx, value_yy, value_yz,\n",
    "                                                           value_zx, value_zy, value_zz,\n",
    "                                                           label_num):\n",
    "                data_points.append((xx, xy, xz, yx, yy, yz, zx, zy, zz, num))\n",
    "\n",
    "        except Exception as e:\n",
    "            print(f\"\\n\\n\\nError reading file '{file_name}': {e}\\n\\n\\n\")\n",
    "\n",
    "process_files_in_folder()"
   ]
  },
  {
   "cell_type": "code",
   "execution_count": 21,
   "metadata": {},
   "outputs": [],
   "source": [
    "import random\n",
    "\n",
    "# 데이터 포인트를 라벨에 따라 저장할 딕셔너리 생성\n",
    "data_by_label = {}\n",
    "for data_point in data_points:\n",
    "    xx, xy, xz, yx, yy, yz, zx, zy, zz, num = data_point\n",
    "    if num not in data_by_label:\n",
    "        data_by_label[num] = []\n",
    "    data_by_label[num].append(data_point)\n",
    "\n",
    "# 중복없이 샘플링한 데이터를 저장할 변수 초기화\n",
    "sampled_data = []\n",
    "desired_sample_count = 80000\n",
    "\n",
    "# 각 라벨 그룹에서 데이터를 무작위로 셔플링\n",
    "for label, data_list in data_by_label.items():\n",
    "    random.shuffle(data_list)  # 데이터 셔플링\n",
    "    if len(data_list) >= desired_sample_count:\n",
    "        sampled_data.extend(data_list[:desired_sample_count])  # 중복없이 원하는 샘플 수만큼 선택\n",
    "    else:\n",
    "        sampled_data.extend(data_list)  # 원하는 샘플 수보다 데이터 포인트가 적을 경우 모든 데이터 포인트를 포함\n",
    "\n"
   ]
  },
  {
   "cell_type": "code",
   "execution_count": 22,
   "metadata": {},
   "outputs": [],
   "source": [
    "import pandas as pd\n",
    "\n",
    "# DataFrame 생성\n",
    "sampled_df = pd.DataFrame(sampled_data, columns=['xx', 'xy', 'xz', 'yx', 'yy', 'yz', 'zx', 'zy', 'zz', 'label'])\n",
    "\n",
    "# DataFrame을 XLSX 파일로 저장\n",
    "sampled_df.to_excel(\"sampled.xlsx\", index=False)"
   ]
  }
 ],
 "metadata": {
  "kernelspec": {
   "display_name": "Python 3",
   "language": "python",
   "name": "python3"
  },
  "language_info": {
   "codemirror_mode": {
    "name": "ipython",
    "version": 3
   },
   "file_extension": ".py",
   "mimetype": "text/x-python",
   "name": "python",
   "nbconvert_exporter": "python",
   "pygments_lexer": "ipython3",
   "version": "3.9.7"
  }
 },
 "nbformat": 4,
 "nbformat_minor": 2
}
